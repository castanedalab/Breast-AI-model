{
 "cells": [
  {
   "cell_type": "code",
   "execution_count": 2,
   "id": "d0da042e",
   "metadata": {},
   "outputs": [
    {
     "name": "stdout",
     "output_type": "stream",
     "text": [
      "📦 Preprocessing model_fold0.onnx ...\n",
      "✅ Done: ./onnx_models_preprocessed/model_fold0_preproc.onnx\n",
      "📦 Preprocessing model_fold1.onnx ...\n",
      "✅ Done: ./onnx_models_preprocessed/model_fold1_preproc.onnx\n",
      "📦 Preprocessing model_fold2.onnx ...\n",
      "✅ Done: ./onnx_models_preprocessed/model_fold2_preproc.onnx\n",
      "📦 Preprocessing model_fold3.onnx ...\n",
      "✅ Done: ./onnx_models_preprocessed/model_fold3_preproc.onnx\n",
      "📦 Preprocessing model_fold4.onnx ...\n",
      "✅ Done: ./onnx_models_preprocessed/model_fold4_preproc.onnx\n",
      "📦 Preprocessing model_fold5.onnx ...\n",
      "✅ Done: ./onnx_models_preprocessed/model_fold5_preproc.onnx\n",
      "📦 Preprocessing model_fold6.onnx ...\n",
      "✅ Done: ./onnx_models_preprocessed/model_fold6_preproc.onnx\n",
      "📦 Preprocessing model_fold7.onnx ...\n",
      "✅ Done: ./onnx_models_preprocessed/model_fold7_preproc.onnx\n",
      "📦 Preprocessing model_fold8.onnx ...\n",
      "✅ Done: ./onnx_models_preprocessed/model_fold8_preproc.onnx\n",
      "📦 Preprocessing model_fold9.onnx ...\n",
      "✅ Done: ./onnx_models_preprocessed/model_fold9_preproc.onnx\n"
     ]
    }
   ],
   "source": [
    "import os\n",
    "import subprocess\n",
    "from pathlib import Path\n",
    "\n",
    "# Carpeta donde están los modelos originales\n",
    "input_dir = \"./onnx_models\"\n",
    "# Carpeta donde se guardarán los modelos preprocesados\n",
    "output_dir = \"./onnx_models_preprocessed\"\n",
    "os.makedirs(output_dir, exist_ok=True)\n",
    "\n",
    "# Preprocesa cada modelo\n",
    "for i in range(10):\n",
    "    input_model = os.path.join(input_dir, f\"model_fold{i}.onnx\")\n",
    "    output_model = os.path.join(output_dir, f\"model_fold{i}_preproc.onnx\")\n",
    "\n",
    "    print(f\"📦 Preprocessing model_fold{i}.onnx ...\")\n",
    "    result = subprocess.run(\n",
    "        [\n",
    "            \"python\", \"-m\", \"onnxruntime.quantization.preprocess\",\n",
    "            \"--input\", input_model,\n",
    "            \"--output\", output_model,\n",
    "            \"--skip_symbolic_shape\", \"True\"  # O quítalo si usas modelos tipo transformer\n",
    "        ],\n",
    "        capture_output=True, text=True\n",
    "    )\n",
    "\n",
    "    if result.returncode == 0:\n",
    "        print(f\"✅ Done: {output_model}\")\n",
    "    else:\n",
    "        print(f\"❌ Error: {result.stderr}\")\n"
   ]
  },
  {
   "cell_type": "code",
   "execution_count": 5,
   "id": "08d48902",
   "metadata": {},
   "outputs": [
    {
     "name": "stdout",
     "output_type": "stream",
     "text": [
      "[✓] model_fold0_preproc.onnx cuantizado → ./onnx_models_preprocessed/quantized/model_fold0_preproc_int8.onnx\n",
      "[✓] model_fold1_preproc.onnx cuantizado → ./onnx_models_preprocessed/quantized/model_fold1_preproc_int8.onnx\n",
      "[✓] model_fold2_preproc.onnx cuantizado → ./onnx_models_preprocessed/quantized/model_fold2_preproc_int8.onnx\n",
      "[✓] model_fold3_preproc.onnx cuantizado → ./onnx_models_preprocessed/quantized/model_fold3_preproc_int8.onnx\n",
      "[✓] model_fold4_preproc.onnx cuantizado → ./onnx_models_preprocessed/quantized/model_fold4_preproc_int8.onnx\n",
      "[✓] model_fold5_preproc.onnx cuantizado → ./onnx_models_preprocessed/quantized/model_fold5_preproc_int8.onnx\n",
      "[✓] model_fold6_preproc.onnx cuantizado → ./onnx_models_preprocessed/quantized/model_fold6_preproc_int8.onnx\n",
      "[✓] model_fold7_preproc.onnx cuantizado → ./onnx_models_preprocessed/quantized/model_fold7_preproc_int8.onnx\n",
      "[✓] model_fold8_preproc.onnx cuantizado → ./onnx_models_preprocessed/quantized/model_fold8_preproc_int8.onnx\n",
      "[✓] model_fold9_preproc.onnx cuantizado → ./onnx_models_preprocessed/quantized/model_fold9_preproc_int8.onnx\n"
     ]
    }
   ],
   "source": [
    "import os\n",
    "import glob\n",
    "from onnxruntime.quantization import quantize_dynamic, QuantType\n",
    "\n",
    "# Carpeta que contiene los modelos ONNX\n",
    "onnx_dir = \"./onnx_models_preprocessed\"\n",
    "\n",
    "# Archivos modelo a cuantizar\n",
    "onnx_models = sorted(glob.glob(os.path.join(onnx_dir, \"model_fold*.onnx\")))\n",
    "\n",
    "# Directorio de salida para los modelos cuantizados\n",
    "output_dir = os.path.join(onnx_dir, \"quantized\")\n",
    "os.makedirs(output_dir, exist_ok=True)\n",
    "\n",
    "# Cuantiza cada modelo\n",
    "for model_path in onnx_models:\n",
    "    model_name = os.path.basename(model_path)\n",
    "    output_path = os.path.join(output_dir, model_name.replace(\".onnx\", \"_int8.onnx\"))\n",
    "\n",
    "    quantize_dynamic(\n",
    "        model_input=model_path,\n",
    "        model_output=output_path,\n",
    "        weight_type=QuantType.QUInt8  # O puedes probar QuantType.QUInt8\n",
    "    )\n",
    "\n",
    "    print(f\"[✓] {model_name} cuantizado → {output_path}\")\n"
   ]
  }
 ],
 "metadata": {
  "kernelspec": {
   "display_name": "lightning",
   "language": "python",
   "name": "python3"
  },
  "language_info": {
   "codemirror_mode": {
    "name": "ipython",
    "version": 3
   },
   "file_extension": ".py",
   "mimetype": "text/x-python",
   "name": "python",
   "nbconvert_exporter": "python",
   "pygments_lexer": "ipython3",
   "version": "3.12.7"
  }
 },
 "nbformat": 4,
 "nbformat_minor": 5
}
