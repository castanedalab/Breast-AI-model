{
 "cells": [
  {
   "cell_type": "code",
   "execution_count": 1,
   "id": "0239a551",
   "metadata": {},
   "outputs": [
    {
     "name": "stdout",
     "output_type": "stream",
     "text": [
      "📦 Exportando modelo 1/10: /data/GitHub/Breast-AI-model/experiment_5_giancarlo/kfold_10_experiment_1.ckpt\n"
     ]
    },
    {
     "name": "stderr",
     "output_type": "stream",
     "text": [
      "/data/GitHub/Breast-AI-model/src/models_arq/att_unet_seg.py:45: TracerWarning: Converting a tensor to a Python boolean might cause the trace to be incorrect. We can't record the data flow of Python values, so this value will be treated as a constant in the future. This means that the trace might not generalize to other inputs!\n",
      "  if x_up.shape[2:] != y.shape[2:]:\n",
      "/home/exx/anaconda3/envs/ligthning/lib/python3.12/site-packages/torch/onnx/symbolic_helper.py:1460: UserWarning: ONNX export mode is set to TrainingMode.EVAL, but operator 'instance_norm' is set to train=True. Exporting with train=True.\n",
      "  warnings.warn(\n"
     ]
    },
    {
     "name": "stdout",
     "output_type": "stream",
     "text": [
      "✅ Guardado: ./onnx_models/model_fold0.onnx\n",
      "\n",
      "📦 Exportando modelo 2/10: /data/GitHub/Breast-AI-model/experiment_5_giancarlo/kfold_10_experiment_10.ckpt\n",
      "✅ Guardado: ./onnx_models/model_fold1.onnx\n",
      "\n",
      "📦 Exportando modelo 3/10: /data/GitHub/Breast-AI-model/experiment_5_giancarlo/kfold_10_experiment_2.ckpt\n",
      "✅ Guardado: ./onnx_models/model_fold2.onnx\n",
      "\n",
      "📦 Exportando modelo 4/10: /data/GitHub/Breast-AI-model/experiment_5_giancarlo/kfold_10_experiment_3.ckpt\n",
      "✅ Guardado: ./onnx_models/model_fold3.onnx\n",
      "\n",
      "📦 Exportando modelo 5/10: /data/GitHub/Breast-AI-model/experiment_5_giancarlo/kfold_10_experiment_4.ckpt\n",
      "✅ Guardado: ./onnx_models/model_fold4.onnx\n",
      "\n",
      "📦 Exportando modelo 6/10: /data/GitHub/Breast-AI-model/experiment_5_giancarlo/kfold_10_experiment_5.ckpt\n",
      "✅ Guardado: ./onnx_models/model_fold5.onnx\n",
      "\n",
      "📦 Exportando modelo 7/10: /data/GitHub/Breast-AI-model/experiment_5_giancarlo/kfold_10_experiment_6.ckpt\n",
      "✅ Guardado: ./onnx_models/model_fold6.onnx\n",
      "\n",
      "📦 Exportando modelo 8/10: /data/GitHub/Breast-AI-model/experiment_5_giancarlo/kfold_10_experiment_7.ckpt\n",
      "✅ Guardado: ./onnx_models/model_fold7.onnx\n",
      "\n",
      "📦 Exportando modelo 9/10: /data/GitHub/Breast-AI-model/experiment_5_giancarlo/kfold_10_experiment_8.ckpt\n",
      "✅ Guardado: ./onnx_models/model_fold8.onnx\n",
      "\n",
      "📦 Exportando modelo 10/10: /data/GitHub/Breast-AI-model/experiment_5_giancarlo/kfold_10_experiment_9.ckpt\n",
      "✅ Guardado: ./onnx_models/model_fold9.onnx\n",
      "\n",
      "🎉 Conversión a ONNX completada.\n"
     ]
    }
   ],
   "source": [
    "import os\n",
    "import torch\n",
    "import yaml\n",
    "from addict import Dict\n",
    "from model_lightning_seg import MyModel\n",
    "\n",
    "# === Configura tus rutas ===\n",
    "ckpt_dir = \"/data/GitHub/Breast-AI-model/experiment_5_giancarlo\"\n",
    "config_path = \"/data/GitHub/Breast-AI-model/src/default_config_train_seg.yaml\"\n",
    "onnx_out_dir = \"./onnx_models\"\n",
    "os.makedirs(onnx_out_dir, exist_ok=True)\n",
    "\n",
    "# === Carga el config YAML ===\n",
    "with open(config_path, \"r\") as f:\n",
    "    conf = Dict(yaml.safe_load(f))\n",
    "\n",
    "# === Encuentra los .ckpt ===\n",
    "ckpts = sorted([\n",
    "    os.path.join(ckpt_dir, f)\n",
    "    for f in os.listdir(ckpt_dir)\n",
    "    if f.endswith(\".ckpt\")\n",
    "])\n",
    "\n",
    "if not ckpts:\n",
    "    raise FileNotFoundError(f\"No .ckpt found in {ckpt_dir}\")\n",
    "\n",
    "# === Exporta a ONNX con Lightning ===\n",
    "for i, ckpt_path in enumerate(ckpts):\n",
    "    print(f\"📦 Exportando modelo {i+1}/{len(ckpts)}: {ckpt_path}\")\n",
    "    \n",
    "    model = MyModel.load_from_checkpoint(\n",
    "        checkpoint_path=ckpt_path,\n",
    "        model_opts=conf.model_opts,\n",
    "        train_par=conf.train_par,\n",
    "        strict=False,\n",
    "    )\n",
    "    model.eval()\n",
    "\n",
    "    # Dummy input: (1, 1, 128, 128, 128)\n",
    "    dummy_input = torch.randn(1, 1, 128, 128, 128, dtype=torch.float32)\n",
    "\n",
    "    # Ruta de salida ONNX\n",
    "    onnx_path = os.path.join(onnx_out_dir, f\"model_fold{i}.onnx\")\n",
    "\n",
    "    # Exportar usando Lightning\n",
    "    model.to_onnx(\n",
    "        file_path=onnx_path,\n",
    "        input_sample=dummy_input,\n",
    "        export_params=True,\n",
    "        opset_version=17,\n",
    "        input_names=[\"input\"],\n",
    "        output_names=[\"output\"],\n",
    "        dynamic_axes={\"input\": {0: \"batch_size\"}, \"output\": {0: \"batch_size\"}},\n",
    "    )\n",
    "\n",
    "    print(f\"✅ Guardado: {onnx_path}\\n\")\n",
    "\n",
    "print(\"🎉 Conversión a ONNX completada.\")\n"
   ]
  }
 ],
 "metadata": {
  "kernelspec": {
   "display_name": "ligthning",
   "language": "python",
   "name": "python3"
  },
  "language_info": {
   "codemirror_mode": {
    "name": "ipython",
    "version": 3
   },
   "file_extension": ".py",
   "mimetype": "text/x-python",
   "name": "python",
   "nbconvert_exporter": "python",
   "pygments_lexer": "ipython3",
   "version": "3.12.7"
  }
 },
 "nbformat": 4,
 "nbformat_minor": 5
}
