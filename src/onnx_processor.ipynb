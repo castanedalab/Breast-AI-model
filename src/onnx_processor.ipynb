{
 "cells": [
  {
   "cell_type": "code",
   "execution_count": 1,
   "id": "0239a551",
   "metadata": {},
   "outputs": [
    {
     "name": "stdout",
     "output_type": "stream",
     "text": [
      "📦 Exportando modelo 1/10: /data/GitHub/Breast-AI-model/experiment_5_giancarlo/kfold_10_experiment_1.ckpt\n"
     ]
    },
    {
     "name": "stderr",
     "output_type": "stream",
     "text": [
      "/data/GitHub/Breast-AI-model/src/models_arq/att_unet_seg.py:45: TracerWarning: Converting a tensor to a Python boolean might cause the trace to be incorrect. We can't record the data flow of Python values, so this value will be treated as a constant in the future. This means that the trace might not generalize to other inputs!\n",
      "  if x_up.shape[2:] != y.shape[2:]:\n",
      "/home/exx/anaconda3/envs/ligthning/lib/python3.12/site-packages/torch/onnx/symbolic_helper.py:1460: UserWarning: ONNX export mode is set to TrainingMode.EVAL, but operator 'instance_norm' is set to train=True. Exporting with train=True.\n",
      "  warnings.warn(\n"
     ]
    },
    {
     "name": "stdout",
     "output_type": "stream",
     "text": [
      "✅ Guardado: ./onnx_models/model_fold0.onnx\n",
      "\n",
      "📦 Exportando modelo 2/10: /data/GitHub/Breast-AI-model/experiment_5_giancarlo/kfold_10_experiment_10.ckpt\n",
      "✅ Guardado: ./onnx_models/model_fold1.onnx\n",
      "\n",
      "📦 Exportando modelo 3/10: /data/GitHub/Breast-AI-model/experiment_5_giancarlo/kfold_10_experiment_2.ckpt\n",
      "✅ Guardado: ./onnx_models/model_fold2.onnx\n",
      "\n",
      "📦 Exportando modelo 4/10: /data/GitHub/Breast-AI-model/experiment_5_giancarlo/kfold_10_experiment_3.ckpt\n",
      "✅ Guardado: ./onnx_models/model_fold3.onnx\n",
      "\n",
      "📦 Exportando modelo 5/10: /data/GitHub/Breast-AI-model/experiment_5_giancarlo/kfold_10_experiment_4.ckpt\n",
      "✅ Guardado: ./onnx_models/model_fold4.onnx\n",
      "\n",
      "📦 Exportando modelo 6/10: /data/GitHub/Breast-AI-model/experiment_5_giancarlo/kfold_10_experiment_5.ckpt\n",
      "✅ Guardado: ./onnx_models/model_fold5.onnx\n",
      "\n",
      "📦 Exportando modelo 7/10: /data/GitHub/Breast-AI-model/experiment_5_giancarlo/kfold_10_experiment_6.ckpt\n",
      "✅ Guardado: ./onnx_models/model_fold6.onnx\n",
      "\n",
      "📦 Exportando modelo 8/10: /data/GitHub/Breast-AI-model/experiment_5_giancarlo/kfold_10_experiment_7.ckpt\n",
      "✅ Guardado: ./onnx_models/model_fold7.onnx\n",
      "\n",
      "📦 Exportando modelo 9/10: /data/GitHub/Breast-AI-model/experiment_5_giancarlo/kfold_10_experiment_8.ckpt\n",
      "✅ Guardado: ./onnx_models/model_fold8.onnx\n",
      "\n",
      "📦 Exportando modelo 10/10: /data/GitHub/Breast-AI-model/experiment_5_giancarlo/kfold_10_experiment_9.ckpt\n",
      "✅ Guardado: ./onnx_models/model_fold9.onnx\n",
      "\n",
      "🎉 Conversión a ONNX completada.\n"
     ]
    }
   ],
   "source": [
    "import os\n",
    "import torch\n",
    "import yaml\n",
    "from addict import Dict\n",
    "from model_lightning_seg import MyModel\n",
    "\n",
    "# === Configura tus rutas ===\n",
    "ckpt_dir = \"/data/GitHub/Breast-AI-model/experiment_5_giancarlo\"\n",
    "config_path = \"/data/GitHub/Breast-AI-model/src/default_config_train_seg.yaml\"\n",
    "onnx_out_dir = \"./onnx_models\"\n",
    "os.makedirs(onnx_out_dir, exist_ok=True)\n",
    "\n",
    "# === Carga el config YAML ===\n",
    "with open(config_path, \"r\") as f:\n",
    "    conf = Dict(yaml.safe_load(f))\n",
    "\n",
    "# === Encuentra los .ckpt ===\n",
    "ckpts = sorted([\n",
    "    os.path.join(ckpt_dir, f)\n",
    "    for f in os.listdir(ckpt_dir)\n",
    "    if f.endswith(\".ckpt\")\n",
    "])\n",
    "\n",
    "if not ckpts:\n",
    "    raise FileNotFoundError(f\"No .ckpt found in {ckpt_dir}\")\n",
    "\n",
    "# === Exporta a ONNX con Lightning ===\n",
    "for i, ckpt_path in enumerate(ckpts):\n",
    "    print(f\"📦 Exportando modelo {i+1}/{len(ckpts)}: {ckpt_path}\")\n",
    "    \n",
    "    model = MyModel.load_from_checkpoint(\n",
    "        checkpoint_path=ckpt_path,\n",
    "        model_opts=conf.model_opts,\n",
    "        train_par=conf.train_par,\n",
    "        strict=False,\n",
    "    )\n",
    "    model.eval()\n",
    "\n",
    "    # Dummy input: (1, 1, 128, 128, 128)\n",
    "    dummy_input = torch.randn(1, 1, 128, 128, 128, dtype=torch.float32)\n",
    "\n",
    "    # Ruta de salida ONNX\n",
    "    onnx_path = os.path.join(onnx_out_dir, f\"model_fold{i}.onnx\")\n",
    "\n",
    "    # Exportar usando Lightning\n",
    "    model.to_onnx(\n",
    "        file_path=onnx_path,\n",
    "        input_sample=dummy_input,\n",
    "        export_params=True,\n",
    "        opset_version=17,\n",
    "        input_names=[\"input\"],\n",
    "        output_names=[\"output\"],\n",
    "        dynamic_axes={\"input\": {0: \"batch_size\"}, \"output\": {0: \"batch_size\"}},\n",
    "    )\n",
    "\n",
    "    print(f\"✅ Guardado: {onnx_path}\\n\")\n",
    "\n",
    "print(\"🎉 Conversión a ONNX completada.\")\n"
   ]
  },
  {
   "cell_type": "code",
   "execution_count": 11,
   "id": "2625931a",
   "metadata": {},
   "outputs": [
    {
     "name": "stdout",
     "output_type": "stream",
     "text": [
      "📦 Exportando modelo 1/3: densenet - densenet.ckpt\n",
      "✅ Guardado: D:/Research Projects/Breast-AI-model/Classification_onnx\\classifier_0_densenet.onnx\n",
      "\n",
      "📦 Exportando modelo 2/3: mobilenet - mobilenet.ckpt\n",
      "✅ Guardado: D:/Research Projects/Breast-AI-model/Classification_onnx\\classifier_1_mobilenet.onnx\n",
      "\n",
      "📦 Exportando modelo 3/3: vgg16 - vgg16.ckpt\n"
     ]
    },
    {
     "name": "stderr",
     "output_type": "stream",
     "text": [
      "c:\\Users\\Luca\\miniconda3\\envs\\testenv\\lib\\site-packages\\torchvision\\models\\_utils.py:223: UserWarning: Arguments other than a weight enum or `None` for 'weights' are deprecated since 0.13 and may be removed in the future. The current behavior is equivalent to passing `weights=VGG16_Weights.IMAGENET1K_V1`. You can also use `weights=VGG16_Weights.DEFAULT` to get the most up-to-date weights.\n",
      "  warnings.warn(msg)\n"
     ]
    },
    {
     "name": "stdout",
     "output_type": "stream",
     "text": [
      "✅ Guardado: D:/Research Projects/Breast-AI-model/Classification_onnx\\classifier_2_vgg16.onnx\n",
      "\n",
      "🎉 Conversión a ONNX finalizada.\n"
     ]
    }
   ],
   "source": [
    "import os\n",
    "import torch\n",
    "from model_lightning_clasi import MyModelMulticlass\n",
    "from addict import Dict\n",
    "\n",
    "# === Rutas ===\n",
    "ckpt_dir = \"D:/Research Projects/Breast-AI-model/Classification_ckpts\"\n",
    "onnx_out_dir = \"D:/Research Projects/Breast-AI-model/Classification_onnx\"\n",
    "os.makedirs(onnx_out_dir, exist_ok=True)\n",
    "\n",
    "# === Lista de nombres modelo conocidos (ajustar si agregas más)\n",
    "model_names = ['densenet', 'mobilenet', 'simple', 'vgg16']\n",
    "\n",
    "# === Parámetros de entrenamiento\n",
    "train_par = Dict({'eval_threshold': 0.5, 'loss_opts': {'name': 'CrossEntropyLoss'}})\n",
    "\n",
    "# === Buscar checkpoints\n",
    "ckpts = sorted([\n",
    "    os.path.join(ckpt_dir, f)\n",
    "    for f in os.listdir(ckpt_dir)\n",
    "    if f.endswith(\".ckpt\")\n",
    "])\n",
    "if not ckpts:\n",
    "    raise FileNotFoundError(f\"No .ckpt found in {ckpt_dir}\")\n",
    "\n",
    "# === Exportación robusta\n",
    "def export_to_onnx(model, dummy_input, output_path):\n",
    "    model.eval()\n",
    "    with torch.no_grad():\n",
    "        torch.onnx.export(\n",
    "            model,\n",
    "            dummy_input,\n",
    "            output_path,\n",
    "            export_params=True,\n",
    "            opset_version=17,\n",
    "            input_names=[\"input\"],\n",
    "            output_names=[\"output\"],\n",
    "            dynamic_axes={\"input\": {0: \"batch_size\"}, \"output\": {0: \"batch_size\"}},\n",
    "            do_constant_folding=True\n",
    "        )\n",
    "\n",
    "# === Procesar cada modelo\n",
    "for i, ckpt_path in enumerate(ckpts):\n",
    "    model_name = None\n",
    "    for name in model_names:\n",
    "        if name in ckpt_path.lower():\n",
    "            model_name = name\n",
    "            break\n",
    "    if model_name is None:\n",
    "        print(f\"⚠️ No se pudo determinar el tipo de modelo para {ckpt_path}. Saltando.\")\n",
    "        continue\n",
    "\n",
    "    print(f\"📦 Exportando modelo {i+1}/{len(ckpts)}: {model_name} - {os.path.basename(ckpt_path)}\")\n",
    "\n",
    "    # Cargar modelo\n",
    "    model_opts = Dict({'name': model_name})\n",
    "    model = MyModelMulticlass.load_from_checkpoint(\n",
    "        checkpoint_path=ckpt_path,\n",
    "        model_opts=model_opts,\n",
    "        train_par=train_par,\n",
    "    )\n",
    "    model.eval()\n",
    "\n",
    "    # Detectar dispositivo y mover modelo e input\n",
    "    device = torch.device(\"cuda\" if torch.cuda.is_available() else \"cpu\")\n",
    "    model.to(device)\n",
    "    dummy_input = torch.randn(1, 3, 224, 224).to(device)\n",
    "\n",
    "    # Ruta de salida\n",
    "    onnx_path = os.path.join(onnx_out_dir, f\"classifier_{i}_{model_name}.onnx\")\n",
    "\n",
    "    try:\n",
    "        export_to_onnx(model, dummy_input, onnx_path)\n",
    "        print(f\"✅ Guardado: {onnx_path}\\n\")\n",
    "    except Exception as e:\n",
    "        print(f\"❌ Error al exportar {onnx_path}: {e}\")\n",
    "\n",
    "print(\"🎉 Conversión a ONNX finalizada.\")\n",
    "\n"
   ]
  },
  {
   "cell_type": "code",
   "execution_count": 12,
   "id": "3578bf88",
   "metadata": {},
   "outputs": [
    {
     "name": "stdout",
     "output_type": "stream",
     "text": [
      "✅ Modelo ONNX válido.\n"
     ]
    }
   ],
   "source": [
    "import onnx\n",
    "\n",
    "# Ruta al modelo ONNX\n",
    "onnx_path = \"D:/Research Projects/Breast-AI-model/Classification_onnx/classifier_0_densenet.onnx\"\n",
    "\n",
    "# Cargar y verificar\n",
    "model = onnx.load(onnx_path)\n",
    "onnx.checker.check_model(model)\n",
    "\n",
    "print(\"✅ Modelo ONNX válido.\")\n"
   ]
  },
  {
   "cell_type": "code",
   "execution_count": 13,
   "id": "f7b1eb9f",
   "metadata": {},
   "outputs": [
    {
     "name": "stdout",
     "output_type": "stream",
     "text": [
      "✅ Inferencia OK. Salida:\n",
      "[[-1.5368236   2.1265516  -0.38121608]]\n"
     ]
    }
   ],
   "source": [
    "import onnxruntime as ort\n",
    "import numpy as np\n",
    "\n",
    "# Ruta del modelo\n",
    "onnx_path = \"D:/Research Projects/Breast-AI-model/Classification_onnx/classifier_0_densenet.onnx\"\n",
    "\n",
    "# Crear sesión\n",
    "ort_session = ort.InferenceSession(onnx_path)\n",
    "\n",
    "# Dummy input (igual que el usado al exportar)\n",
    "dummy_input = np.random.randn(1, 3, 224, 224).astype(np.float32)\n",
    "\n",
    "# Ejecutar inferencia\n",
    "outputs = ort_session.run(None, {\"input\": dummy_input})\n",
    "\n",
    "print(\"✅ Inferencia OK. Salida:\")\n",
    "print(outputs[0])\n"
   ]
  },
  {
   "cell_type": "code",
   "execution_count": 15,
   "id": "a3139767",
   "metadata": {},
   "outputs": [
    {
     "name": "stderr",
     "output_type": "stream",
     "text": [
      "c:\\Users\\Luca\\miniconda3\\envs\\testenv\\lib\\site-packages\\lightning\\pytorch\\utilities\\migration\\utils.py:56: The loaded checkpoint was produced with Lightning v2.3.3, which is newer than your current Lightning version: v2.2.5\n",
      "c:\\Users\\Luca\\miniconda3\\envs\\testenv\\lib\\site-packages\\torchvision\\models\\_utils.py:208: UserWarning: The parameter 'pretrained' is deprecated since 0.13 and may be removed in the future, please use 'weights' instead.\n",
      "  warnings.warn(\n",
      "c:\\Users\\Luca\\miniconda3\\envs\\testenv\\lib\\site-packages\\torchvision\\models\\_utils.py:223: UserWarning: Arguments other than a weight enum or `None` for 'weights' are deprecated since 0.13 and may be removed in the future. The current behavior is equivalent to passing `weights=DenseNet121_Weights.IMAGENET1K_V1`. You can also use `weights=DenseNet121_Weights.DEFAULT` to get the most up-to-date weights.\n",
      "  warnings.warn(msg)\n"
     ]
    },
    {
     "name": "stdout",
     "output_type": "stream",
     "text": [
      "✅ Las salidas de PyTorch y ONNX son similares.\n"
     ]
    }
   ],
   "source": [
    "import torch\n",
    "import numpy as np\n",
    "import onnx\n",
    "import onnxruntime as ort\n",
    "\n",
    "from model_lightning_clasi import MyModelMulticlass\n",
    "from addict import Dict\n",
    "\n",
    "# === Rutas ===\n",
    "ckpt_path = \"D:/Research Projects/Breast-AI-model/Classification_ckpts/densenet.ckpt\"\n",
    "onnx_path = \"D:/Research Projects/Breast-AI-model/Classification_onnx/classifier_0_densenet.onnx\"\n",
    "\n",
    "# === Configuración ===\n",
    "model_opts = Dict({'name': 'densenet'})\n",
    "train_par = Dict({'eval_threshold': 0.5, 'loss_opts': {'name': 'CrossEntropyLoss'}})\n",
    "\n",
    "# === Dummy input ===\n",
    "dummy_input_torch = torch.randn(1, 3, 224, 224)\n",
    "\n",
    "# === PyTorch inference ===\n",
    "model = MyModelMulticlass.load_from_checkpoint(\n",
    "    checkpoint_path=ckpt_path,\n",
    "    model_opts=model_opts,\n",
    "    train_par=train_par,\n",
    ")\n",
    "model = model.cpu()\n",
    "model.eval()\n",
    "\n",
    "with torch.no_grad():\n",
    "    torch_output = model(dummy_input_torch)\n",
    "    torch_output_np = torch_output.cpu().numpy()\n",
    "\n",
    "# === ONNX inference ===\n",
    "ort_session = ort.InferenceSession(onnx_path)\n",
    "dummy_input_numpy = dummy_input_torch.numpy().astype(np.float32)\n",
    "\n",
    "onnx_output = ort_session.run(None, {\"input\": dummy_input_numpy})[0]\n",
    "\n",
    "# === Comparación ===\n",
    "np.testing.assert_allclose(torch_output_np, onnx_output, rtol=1e-03, atol=1e-05)\n",
    "print(\"✅ Las salidas de PyTorch y ONNX son similares.\")\n"
   ]
  }
 ],
 "metadata": {
  "kernelspec": {
   "display_name": "testenv",
   "language": "python",
   "name": "python3"
  },
  "language_info": {
   "codemirror_mode": {
    "name": "ipython",
    "version": 3
   },
   "file_extension": ".py",
   "mimetype": "text/x-python",
   "name": "python",
   "nbconvert_exporter": "python",
   "pygments_lexer": "ipython3",
   "version": "3.9.21"
  }
 },
 "nbformat": 4,
 "nbformat_minor": 5
}
